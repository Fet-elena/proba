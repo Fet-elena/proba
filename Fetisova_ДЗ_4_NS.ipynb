{
  "nbformat": 4,
  "nbformat_minor": 0,
  "metadata": {
    "colab": {
      "provenance": [],
      "authorship_tag": "ABX9TyMtSc83zqz0/V9RBAV31/S1",
      "include_colab_link": true
    },
    "kernelspec": {
      "name": "python3",
      "display_name": "Python 3"
    },
    "language_info": {
      "name": "python"
    }
  },
  "cells": [
    {
      "cell_type": "markdown",
      "metadata": {
        "id": "view-in-github",
        "colab_type": "text"
      },
      "source": [
        "<a href=\"https://colab.research.google.com/github/Fet-elena/proba/blob/main/Fetisova_%D0%94%D0%97_4_NS.ipynb\" target=\"_parent\"><img src=\"https://colab.research.google.com/assets/colab-badge.svg\" alt=\"Open In Colab\"/></a>"
      ]
    },
    {
      "cell_type": "code",
      "execution_count": 3,
      "metadata": {
        "id": "TMl_xfBIvik1"
      },
      "outputs": [],
      "source": [
        "   from keras.models import Sequential\n",
        "   from keras.layers import LSTM, Dense\n",
        "\n",
        "   model = Sequential()\n",
        "   model.add(LSTM(50, input_shape=(100, 1)))  # 100 time steps, 1 feature\n",
        "   model.add(Dense(1))\n",
        "   model.compile(optimizer='adam', loss='mse')"
      ]
    },
    {
      "cell_type": "code",
      "source": [
        "   model = Sequential()\n",
        "   model.add(LSTM(50, return_sequences=True, input_shape=(100, 1)))\n",
        "   model.add(LSTM(50))\n",
        "   model.add(Dense(1))\n",
        "   model.compile(optimizer='adam', loss='mse')"
      ],
      "metadata": {
        "id": "JQH8KgTdvpQa"
      },
      "execution_count": 4,
      "outputs": []
    },
    {
      "cell_type": "code",
      "source": [
        "   model = Sequential()\n",
        "   model.add(LSTM(100, input_shape=(100, 1)))\n",
        "   model.add(Dense(10, activation='softmax'))\n",
        "   model.compile(optimizer='adam', loss='categorical_crossentropy', metrics=['accuracy'])"
      ],
      "metadata": {
        "id": "LtZYOEyGwTtv"
      },
      "execution_count": 9,
      "outputs": []
    },
    {
      "cell_type": "code",
      "source": [
        "   from keras.layers import GRU\n",
        "\n",
        "   model = Sequential()\n",
        "   model.add(GRU(50, input_shape=(100, 1)))\n",
        "   model.add(Dense(1))\n",
        "   model.compile(optimizer='adam', loss='mse')"
      ],
      "metadata": {
        "id": "xyCl1FS3wkAv"
      },
      "execution_count": 10,
      "outputs": []
    },
    {
      "cell_type": "code",
      "source": [
        "   model = Sequential()\n",
        "   model.add(GRU(50, return_sequences=True, input_shape=(100, 1)))\n",
        "   model.add(GRU(50))\n",
        "   model.add(Dense(1))\n",
        "   model.compile(optimizer='adam', loss='mse')"
      ],
      "metadata": {
        "id": "fS7btB0Qwoe7"
      },
      "execution_count": 12,
      "outputs": []
    },
    {
      "cell_type": "code",
      "source": [
        "   model = Sequential()\n",
        "   model.add(GRU(100, input_shape=(100, 1)))\n",
        "   model.add(Dense(10, activation='softmax'))\n",
        "   model.compile(optimizer='adam', loss='categorical_crossentropy', metrics=['accuracy'])"
      ],
      "metadata": {
        "id": "aFUa2mY_wvbC"
      },
      "execution_count": 13,
      "outputs": []
    }
  ]
}
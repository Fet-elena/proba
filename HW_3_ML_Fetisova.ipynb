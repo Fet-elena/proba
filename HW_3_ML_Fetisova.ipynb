{
  "cells": [
    {
      "cell_type": "markdown",
      "metadata": {
        "id": "view-in-github",
        "colab_type": "text"
      },
      "source": [
        "<a href=\"https://colab.research.google.com/github/Fet-elena/proba/blob/main/HW_3_ML_Fetisova.ipynb\" target=\"_parent\"><img src=\"https://colab.research.google.com/assets/colab-badge.svg\" alt=\"Open In Colab\"/></a>"
      ]
    },
    {
      "cell_type": "code",
      "execution_count": null,
      "metadata": {
        "id": "DWTbue4AkQHB"
      },
      "outputs": [],
      "source": [
        "%matplotlib inline\n",
        "\n",
        "import pandas as pd\n",
        "import numpy as np\n",
        "import seaborn as sns\n",
        "from matplotlib import pyplot as plt\n",
        "from tqdm import tqdm\n",
        "from sklearn.datasets import fetch_20newsgroups\n",
        "\n",
        "from sklearn.model_selection import train_test_split, GridSearchCV\n",
        "from sklearn.linear_model import Ridge\n",
        "from sklearn.metrics import mean_squared_error\n",
        "from sklearn.linear_model import LinearRegression, Ridge, Lasso, RidgeCV, LassoCV\n",
        "from sklearn.metrics import r2_score\n",
        "from sklearn.preprocessing import StandardScaler\n",
        "from sklearn.preprocessing import MinMaxScaler\n",
        "from sklearn.pipeline import Pipeline\n",
        "from sklearn.preprocessing import PolynomialFeatures\n",
        "from sklearn.impute import SimpleImputer\n",
        "from sklearn.compose import ColumnTransformer\n",
        "from sklearn.dummy import DummyClassifier\n",
        "import warnings\n",
        "warnings.filterwarnings('ignore')"
      ]
    },
    {
      "cell_type": "code",
      "execution_count": null,
      "metadata": {
        "id": "b1OvjEdJkQHE"
      },
      "outputs": [],
      "source": [
        "RANDOM_STATE = 42\n",
        "\n",
        "results_regression = pd.DataFrame(columns = ['model', 'task', 'R2'])\n",
        "results_classification = pd.DataFrame(columns = ['model', 'task', 'f1', 'accuracy'])"
      ]
    },
    {
      "cell_type": "markdown",
      "metadata": {
        "id": "KRKUjcQ-kQHF"
      },
      "source": [
        "https://www.cs.toronto.edu/~delve/data/boston/bostonDetail.html"
      ]
    },
    {
      "cell_type": "code",
      "execution_count": null,
      "metadata": {
        "colab": {
          "base_uri": "https://localhost:8080/",
          "height": 206
        },
        "id": "eIni_81AkQHG",
        "outputId": "62d094fb-896d-4f76-b963-c6fdaba09460"
      },
      "outputs": [
        {
          "output_type": "execute_result",
          "data": {
            "text/plain": [
              "      CRIM    ZN  INDUS  CHAS    NOX     RM   AGE     DIS  RAD    TAX  \\\n",
              "0  0.00632  18.0   2.31   0.0  0.538  6.575  65.2  4.0900  1.0  296.0   \n",
              "1  0.02731   0.0   7.07   0.0  0.469  6.421  78.9  4.9671  2.0  242.0   \n",
              "2  0.02729   0.0   7.07   0.0  0.469  7.185  61.1  4.9671  2.0  242.0   \n",
              "3  0.03237   0.0   2.18   0.0  0.458  6.998  45.8  6.0622  3.0  222.0   \n",
              "4  0.06905   0.0   2.18   0.0  0.458  7.147  54.2  6.0622  3.0  222.0   \n",
              "\n",
              "   PTRATIO       B  LSTAT  MEDV  \n",
              "0     15.3  396.90   4.98  24.0  \n",
              "1     17.8  396.90   9.14  21.6  \n",
              "2     17.8  392.83   4.03  34.7  \n",
              "3     18.7  394.63   2.94  33.4  \n",
              "4     18.7  396.90   5.33  36.2  "
            ],
            "text/html": [
              "\n",
              "  <div id=\"df-ec89a841-619b-4ed1-b841-8ada6dfb5fac\" class=\"colab-df-container\">\n",
              "    <div>\n",
              "<style scoped>\n",
              "    .dataframe tbody tr th:only-of-type {\n",
              "        vertical-align: middle;\n",
              "    }\n",
              "\n",
              "    .dataframe tbody tr th {\n",
              "        vertical-align: top;\n",
              "    }\n",
              "\n",
              "    .dataframe thead th {\n",
              "        text-align: right;\n",
              "    }\n",
              "</style>\n",
              "<table border=\"1\" class=\"dataframe\">\n",
              "  <thead>\n",
              "    <tr style=\"text-align: right;\">\n",
              "      <th></th>\n",
              "      <th>CRIM</th>\n",
              "      <th>ZN</th>\n",
              "      <th>INDUS</th>\n",
              "      <th>CHAS</th>\n",
              "      <th>NOX</th>\n",
              "      <th>RM</th>\n",
              "      <th>AGE</th>\n",
              "      <th>DIS</th>\n",
              "      <th>RAD</th>\n",
              "      <th>TAX</th>\n",
              "      <th>PTRATIO</th>\n",
              "      <th>B</th>\n",
              "      <th>LSTAT</th>\n",
              "      <th>MEDV</th>\n",
              "    </tr>\n",
              "  </thead>\n",
              "  <tbody>\n",
              "    <tr>\n",
              "      <th>0</th>\n",
              "      <td>0.00632</td>\n",
              "      <td>18.0</td>\n",
              "      <td>2.31</td>\n",
              "      <td>0.0</td>\n",
              "      <td>0.538</td>\n",
              "      <td>6.575</td>\n",
              "      <td>65.2</td>\n",
              "      <td>4.0900</td>\n",
              "      <td>1.0</td>\n",
              "      <td>296.0</td>\n",
              "      <td>15.3</td>\n",
              "      <td>396.90</td>\n",
              "      <td>4.98</td>\n",
              "      <td>24.0</td>\n",
              "    </tr>\n",
              "    <tr>\n",
              "      <th>1</th>\n",
              "      <td>0.02731</td>\n",
              "      <td>0.0</td>\n",
              "      <td>7.07</td>\n",
              "      <td>0.0</td>\n",
              "      <td>0.469</td>\n",
              "      <td>6.421</td>\n",
              "      <td>78.9</td>\n",
              "      <td>4.9671</td>\n",
              "      <td>2.0</td>\n",
              "      <td>242.0</td>\n",
              "      <td>17.8</td>\n",
              "      <td>396.90</td>\n",
              "      <td>9.14</td>\n",
              "      <td>21.6</td>\n",
              "    </tr>\n",
              "    <tr>\n",
              "      <th>2</th>\n",
              "      <td>0.02729</td>\n",
              "      <td>0.0</td>\n",
              "      <td>7.07</td>\n",
              "      <td>0.0</td>\n",
              "      <td>0.469</td>\n",
              "      <td>7.185</td>\n",
              "      <td>61.1</td>\n",
              "      <td>4.9671</td>\n",
              "      <td>2.0</td>\n",
              "      <td>242.0</td>\n",
              "      <td>17.8</td>\n",
              "      <td>392.83</td>\n",
              "      <td>4.03</td>\n",
              "      <td>34.7</td>\n",
              "    </tr>\n",
              "    <tr>\n",
              "      <th>3</th>\n",
              "      <td>0.03237</td>\n",
              "      <td>0.0</td>\n",
              "      <td>2.18</td>\n",
              "      <td>0.0</td>\n",
              "      <td>0.458</td>\n",
              "      <td>6.998</td>\n",
              "      <td>45.8</td>\n",
              "      <td>6.0622</td>\n",
              "      <td>3.0</td>\n",
              "      <td>222.0</td>\n",
              "      <td>18.7</td>\n",
              "      <td>394.63</td>\n",
              "      <td>2.94</td>\n",
              "      <td>33.4</td>\n",
              "    </tr>\n",
              "    <tr>\n",
              "      <th>4</th>\n",
              "      <td>0.06905</td>\n",
              "      <td>0.0</td>\n",
              "      <td>2.18</td>\n",
              "      <td>0.0</td>\n",
              "      <td>0.458</td>\n",
              "      <td>7.147</td>\n",
              "      <td>54.2</td>\n",
              "      <td>6.0622</td>\n",
              "      <td>3.0</td>\n",
              "      <td>222.0</td>\n",
              "      <td>18.7</td>\n",
              "      <td>396.90</td>\n",
              "      <td>5.33</td>\n",
              "      <td>36.2</td>\n",
              "    </tr>\n",
              "  </tbody>\n",
              "</table>\n",
              "</div>\n",
              "    <div class=\"colab-df-buttons\">\n",
              "\n",
              "  <div class=\"colab-df-container\">\n",
              "    <button class=\"colab-df-convert\" onclick=\"convertToInteractive('df-ec89a841-619b-4ed1-b841-8ada6dfb5fac')\"\n",
              "            title=\"Convert this dataframe to an interactive table.\"\n",
              "            style=\"display:none;\">\n",
              "\n",
              "  <svg xmlns=\"http://www.w3.org/2000/svg\" height=\"24px\" viewBox=\"0 -960 960 960\">\n",
              "    <path d=\"M120-120v-720h720v720H120Zm60-500h600v-160H180v160Zm220 220h160v-160H400v160Zm0 220h160v-160H400v160ZM180-400h160v-160H180v160Zm440 0h160v-160H620v160ZM180-180h160v-160H180v160Zm440 0h160v-160H620v160Z\"/>\n",
              "  </svg>\n",
              "    </button>\n",
              "\n",
              "  <style>\n",
              "    .colab-df-container {\n",
              "      display:flex;\n",
              "      gap: 12px;\n",
              "    }\n",
              "\n",
              "    .colab-df-convert {\n",
              "      background-color: #E8F0FE;\n",
              "      border: none;\n",
              "      border-radius: 50%;\n",
              "      cursor: pointer;\n",
              "      display: none;\n",
              "      fill: #1967D2;\n",
              "      height: 32px;\n",
              "      padding: 0 0 0 0;\n",
              "      width: 32px;\n",
              "    }\n",
              "\n",
              "    .colab-df-convert:hover {\n",
              "      background-color: #E2EBFA;\n",
              "      box-shadow: 0px 1px 2px rgba(60, 64, 67, 0.3), 0px 1px 3px 1px rgba(60, 64, 67, 0.15);\n",
              "      fill: #174EA6;\n",
              "    }\n",
              "\n",
              "    .colab-df-buttons div {\n",
              "      margin-bottom: 4px;\n",
              "    }\n",
              "\n",
              "    [theme=dark] .colab-df-convert {\n",
              "      background-color: #3B4455;\n",
              "      fill: #D2E3FC;\n",
              "    }\n",
              "\n",
              "    [theme=dark] .colab-df-convert:hover {\n",
              "      background-color: #434B5C;\n",
              "      box-shadow: 0px 1px 3px 1px rgba(0, 0, 0, 0.15);\n",
              "      filter: drop-shadow(0px 1px 2px rgba(0, 0, 0, 0.3));\n",
              "      fill: #FFFFFF;\n",
              "    }\n",
              "  </style>\n",
              "\n",
              "    <script>\n",
              "      const buttonEl =\n",
              "        document.querySelector('#df-ec89a841-619b-4ed1-b841-8ada6dfb5fac button.colab-df-convert');\n",
              "      buttonEl.style.display =\n",
              "        google.colab.kernel.accessAllowed ? 'block' : 'none';\n",
              "\n",
              "      async function convertToInteractive(key) {\n",
              "        const element = document.querySelector('#df-ec89a841-619b-4ed1-b841-8ada6dfb5fac');\n",
              "        const dataTable =\n",
              "          await google.colab.kernel.invokeFunction('convertToInteractive',\n",
              "                                                    [key], {});\n",
              "        if (!dataTable) return;\n",
              "\n",
              "        const docLinkHtml = 'Like what you see? Visit the ' +\n",
              "          '<a target=\"_blank\" href=https://colab.research.google.com/notebooks/data_table.ipynb>data table notebook</a>'\n",
              "          + ' to learn more about interactive tables.';\n",
              "        element.innerHTML = '';\n",
              "        dataTable['output_type'] = 'display_data';\n",
              "        await google.colab.output.renderOutput(dataTable, element);\n",
              "        const docLink = document.createElement('div');\n",
              "        docLink.innerHTML = docLinkHtml;\n",
              "        element.appendChild(docLink);\n",
              "      }\n",
              "    </script>\n",
              "  </div>\n",
              "\n",
              "\n",
              "<div id=\"df-8143d376-3c1c-4323-96b6-e7f26bb0c65b\">\n",
              "  <button class=\"colab-df-quickchart\" onclick=\"quickchart('df-8143d376-3c1c-4323-96b6-e7f26bb0c65b')\"\n",
              "            title=\"Suggest charts\"\n",
              "            style=\"display:none;\">\n",
              "\n",
              "<svg xmlns=\"http://www.w3.org/2000/svg\" height=\"24px\"viewBox=\"0 0 24 24\"\n",
              "     width=\"24px\">\n",
              "    <g>\n",
              "        <path d=\"M19 3H5c-1.1 0-2 .9-2 2v14c0 1.1.9 2 2 2h14c1.1 0 2-.9 2-2V5c0-1.1-.9-2-2-2zM9 17H7v-7h2v7zm4 0h-2V7h2v10zm4 0h-2v-4h2v4z\"/>\n",
              "    </g>\n",
              "</svg>\n",
              "  </button>\n",
              "\n",
              "<style>\n",
              "  .colab-df-quickchart {\n",
              "      --bg-color: #E8F0FE;\n",
              "      --fill-color: #1967D2;\n",
              "      --hover-bg-color: #E2EBFA;\n",
              "      --hover-fill-color: #174EA6;\n",
              "      --disabled-fill-color: #AAA;\n",
              "      --disabled-bg-color: #DDD;\n",
              "  }\n",
              "\n",
              "  [theme=dark] .colab-df-quickchart {\n",
              "      --bg-color: #3B4455;\n",
              "      --fill-color: #D2E3FC;\n",
              "      --hover-bg-color: #434B5C;\n",
              "      --hover-fill-color: #FFFFFF;\n",
              "      --disabled-bg-color: #3B4455;\n",
              "      --disabled-fill-color: #666;\n",
              "  }\n",
              "\n",
              "  .colab-df-quickchart {\n",
              "    background-color: var(--bg-color);\n",
              "    border: none;\n",
              "    border-radius: 50%;\n",
              "    cursor: pointer;\n",
              "    display: none;\n",
              "    fill: var(--fill-color);\n",
              "    height: 32px;\n",
              "    padding: 0;\n",
              "    width: 32px;\n",
              "  }\n",
              "\n",
              "  .colab-df-quickchart:hover {\n",
              "    background-color: var(--hover-bg-color);\n",
              "    box-shadow: 0 1px 2px rgba(60, 64, 67, 0.3), 0 1px 3px 1px rgba(60, 64, 67, 0.15);\n",
              "    fill: var(--button-hover-fill-color);\n",
              "  }\n",
              "\n",
              "  .colab-df-quickchart-complete:disabled,\n",
              "  .colab-df-quickchart-complete:disabled:hover {\n",
              "    background-color: var(--disabled-bg-color);\n",
              "    fill: var(--disabled-fill-color);\n",
              "    box-shadow: none;\n",
              "  }\n",
              "\n",
              "  .colab-df-spinner {\n",
              "    border: 2px solid var(--fill-color);\n",
              "    border-color: transparent;\n",
              "    border-bottom-color: var(--fill-color);\n",
              "    animation:\n",
              "      spin 1s steps(1) infinite;\n",
              "  }\n",
              "\n",
              "  @keyframes spin {\n",
              "    0% {\n",
              "      border-color: transparent;\n",
              "      border-bottom-color: var(--fill-color);\n",
              "      border-left-color: var(--fill-color);\n",
              "    }\n",
              "    20% {\n",
              "      border-color: transparent;\n",
              "      border-left-color: var(--fill-color);\n",
              "      border-top-color: var(--fill-color);\n",
              "    }\n",
              "    30% {\n",
              "      border-color: transparent;\n",
              "      border-left-color: var(--fill-color);\n",
              "      border-top-color: var(--fill-color);\n",
              "      border-right-color: var(--fill-color);\n",
              "    }\n",
              "    40% {\n",
              "      border-color: transparent;\n",
              "      border-right-color: var(--fill-color);\n",
              "      border-top-color: var(--fill-color);\n",
              "    }\n",
              "    60% {\n",
              "      border-color: transparent;\n",
              "      border-right-color: var(--fill-color);\n",
              "    }\n",
              "    80% {\n",
              "      border-color: transparent;\n",
              "      border-right-color: var(--fill-color);\n",
              "      border-bottom-color: var(--fill-color);\n",
              "    }\n",
              "    90% {\n",
              "      border-color: transparent;\n",
              "      border-bottom-color: var(--fill-color);\n",
              "    }\n",
              "  }\n",
              "</style>\n",
              "\n",
              "  <script>\n",
              "    async function quickchart(key) {\n",
              "      const quickchartButtonEl =\n",
              "        document.querySelector('#' + key + ' button');\n",
              "      quickchartButtonEl.disabled = true;  // To prevent multiple clicks.\n",
              "      quickchartButtonEl.classList.add('colab-df-spinner');\n",
              "      try {\n",
              "        const charts = await google.colab.kernel.invokeFunction(\n",
              "            'suggestCharts', [key], {});\n",
              "      } catch (error) {\n",
              "        console.error('Error during call to suggestCharts:', error);\n",
              "      }\n",
              "      quickchartButtonEl.classList.remove('colab-df-spinner');\n",
              "      quickchartButtonEl.classList.add('colab-df-quickchart-complete');\n",
              "    }\n",
              "    (() => {\n",
              "      let quickchartButtonEl =\n",
              "        document.querySelector('#df-8143d376-3c1c-4323-96b6-e7f26bb0c65b button');\n",
              "      quickchartButtonEl.style.display =\n",
              "        google.colab.kernel.accessAllowed ? 'block' : 'none';\n",
              "    })();\n",
              "  </script>\n",
              "</div>\n",
              "    </div>\n",
              "  </div>\n"
            ],
            "application/vnd.google.colaboratory.intrinsic+json": {
              "type": "dataframe",
              "variable_name": "data",
              "summary": "{\n  \"name\": \"data\",\n  \"rows\": 506,\n  \"fields\": [\n    {\n      \"column\": \"CRIM\",\n      \"properties\": {\n        \"dtype\": \"number\",\n        \"std\": 8.596782593323319,\n        \"min\": 0.00632,\n        \"max\": 88.9762,\n        \"num_unique_values\": 504,\n        \"samples\": [\n          0.09178,\n          0.05644,\n          0.10574\n        ],\n        \"semantic_type\": \"\",\n        \"description\": \"\"\n      }\n    },\n    {\n      \"column\": \"ZN\",\n      \"properties\": {\n        \"dtype\": \"number\",\n        \"std\": 23.32245299451514,\n        \"min\": 0.0,\n        \"max\": 100.0,\n        \"num_unique_values\": 26,\n        \"samples\": [\n          25.0,\n          30.0,\n          18.0\n        ],\n        \"semantic_type\": \"\",\n        \"description\": \"\"\n      }\n    },\n    {\n      \"column\": \"INDUS\",\n      \"properties\": {\n        \"dtype\": \"number\",\n        \"std\": 6.860352940897585,\n        \"min\": 0.46,\n        \"max\": 27.74,\n        \"num_unique_values\": 76,\n        \"samples\": [\n          8.14,\n          1.47,\n          1.22\n        ],\n        \"semantic_type\": \"\",\n        \"description\": \"\"\n      }\n    },\n    {\n      \"column\": \"CHAS\",\n      \"properties\": {\n        \"dtype\": \"number\",\n        \"std\": 0.25399404134041037,\n        \"min\": 0.0,\n        \"max\": 1.0,\n        \"num_unique_values\": 2,\n        \"samples\": [\n          1.0,\n          0.0\n        ],\n        \"semantic_type\": \"\",\n        \"description\": \"\"\n      }\n    },\n    {\n      \"column\": \"NOX\",\n      \"properties\": {\n        \"dtype\": \"number\",\n        \"std\": 0.11587767566755595,\n        \"min\": 0.385,\n        \"max\": 0.871,\n        \"num_unique_values\": 81,\n        \"samples\": [\n          0.401,\n          0.538\n        ],\n        \"semantic_type\": \"\",\n        \"description\": \"\"\n      }\n    },\n    {\n      \"column\": \"RM\",\n      \"properties\": {\n        \"dtype\": \"number\",\n        \"std\": 0.7026171434153233,\n        \"min\": 3.561,\n        \"max\": 8.78,\n        \"num_unique_values\": 446,\n        \"samples\": [\n          6.849,\n          4.88\n        ],\n        \"semantic_type\": \"\",\n        \"description\": \"\"\n      }\n    },\n    {\n      \"column\": \"AGE\",\n      \"properties\": {\n        \"dtype\": \"number\",\n        \"std\": 28.148861406903617,\n        \"min\": 2.9,\n        \"max\": 100.0,\n        \"num_unique_values\": 356,\n        \"samples\": [\n          51.8,\n          33.8\n        ],\n        \"semantic_type\": \"\",\n        \"description\": \"\"\n      }\n    },\n    {\n      \"column\": \"DIS\",\n      \"properties\": {\n        \"dtype\": \"number\",\n        \"std\": 2.105710126627611,\n        \"min\": 1.1296,\n        \"max\": 12.1265,\n        \"num_unique_values\": 412,\n        \"samples\": [\n          2.2955,\n          4.2515\n        ],\n        \"semantic_type\": \"\",\n        \"description\": \"\"\n      }\n    },\n    {\n      \"column\": \"RAD\",\n      \"properties\": {\n        \"dtype\": \"number\",\n        \"std\": 8.707259384239366,\n        \"min\": 1.0,\n        \"max\": 24.0,\n        \"num_unique_values\": 9,\n        \"samples\": [\n          7.0,\n          2.0\n        ],\n        \"semantic_type\": \"\",\n        \"description\": \"\"\n      }\n    },\n    {\n      \"column\": \"TAX\",\n      \"properties\": {\n        \"dtype\": \"number\",\n        \"std\": 168.53711605495903,\n        \"min\": 187.0,\n        \"max\": 711.0,\n        \"num_unique_values\": 66,\n        \"samples\": [\n          370.0,\n          666.0\n        ],\n        \"semantic_type\": \"\",\n        \"description\": \"\"\n      }\n    },\n    {\n      \"column\": \"PTRATIO\",\n      \"properties\": {\n        \"dtype\": \"number\",\n        \"std\": 2.1649455237144406,\n        \"min\": 12.6,\n        \"max\": 22.0,\n        \"num_unique_values\": 46,\n        \"samples\": [\n          19.6,\n          15.6\n        ],\n        \"semantic_type\": \"\",\n        \"description\": \"\"\n      }\n    },\n    {\n      \"column\": \"B\",\n      \"properties\": {\n        \"dtype\": \"number\",\n        \"std\": 91.29486438415783,\n        \"min\": 0.32,\n        \"max\": 396.9,\n        \"num_unique_values\": 357,\n        \"samples\": [\n          396.24,\n          395.11\n        ],\n        \"semantic_type\": \"\",\n        \"description\": \"\"\n      }\n    },\n    {\n      \"column\": \"LSTAT\",\n      \"properties\": {\n        \"dtype\": \"number\",\n        \"std\": 7.141061511348571,\n        \"min\": 1.73,\n        \"max\": 37.97,\n        \"num_unique_values\": 455,\n        \"samples\": [\n          6.15,\n          4.32\n        ],\n        \"semantic_type\": \"\",\n        \"description\": \"\"\n      }\n    },\n    {\n      \"column\": \"MEDV\",\n      \"properties\": {\n        \"dtype\": \"number\",\n        \"std\": 9.197104087379818,\n        \"min\": 5.0,\n        \"max\": 50.0,\n        \"num_unique_values\": 229,\n        \"samples\": [\n          14.1,\n          22.5\n        ],\n        \"semantic_type\": \"\",\n        \"description\": \"\"\n      }\n    }\n  ]\n}"
            }
          },
          "metadata": {},
          "execution_count": 3
        }
      ],
      "source": [
        "data = pd.read_csv('boston.csv')\n",
        "data.head()"
      ]
    },
    {
      "cell_type": "code",
      "execution_count": null,
      "metadata": {
        "colab": {
          "base_uri": "https://localhost:8080/"
        },
        "id": "2j2ZgbxqkQHH",
        "outputId": "9debe657-3435-404f-b6bb-bd9a447c0986"
      },
      "outputs": [
        {
          "output_type": "stream",
          "name": "stdout",
          "text": [
            "<class 'pandas.core.frame.DataFrame'>\n",
            "RangeIndex: 506 entries, 0 to 505\n",
            "Data columns (total 14 columns):\n",
            " #   Column   Non-Null Count  Dtype  \n",
            "---  ------   --------------  -----  \n",
            " 0   CRIM     506 non-null    float64\n",
            " 1   ZN       506 non-null    float64\n",
            " 2   INDUS    506 non-null    float64\n",
            " 3   CHAS     506 non-null    float64\n",
            " 4   NOX      506 non-null    float64\n",
            " 5   RM       506 non-null    float64\n",
            " 6   AGE      506 non-null    float64\n",
            " 7   DIS      506 non-null    float64\n",
            " 8   RAD      506 non-null    float64\n",
            " 9   TAX      506 non-null    float64\n",
            " 10  PTRATIO  506 non-null    float64\n",
            " 11  B        506 non-null    float64\n",
            " 12  LSTAT    506 non-null    float64\n",
            " 13  MEDV     506 non-null    float64\n",
            "dtypes: float64(14)\n",
            "memory usage: 55.5 KB\n"
          ]
        }
      ],
      "source": [
        "data.info()"
      ]
    },
    {
      "cell_type": "markdown",
      "metadata": {
        "id": "Fs0eItNJkQHH"
      },
      "source": [
        "1. Разделите выборку на обучающую и тестовую в отношении 80%/20%, предварительно выделив целевую переменную (колонка 'MEDV')."
      ]
    },
    {
      "cell_type": "code",
      "execution_count": null,
      "metadata": {
        "id": "g339rW3AkQHI"
      },
      "outputs": [],
      "source": [
        "y = data['MEDV']\n",
        "X = data.drop(columns=['MEDV'])\n",
        "X_train, X_test, y_train, y_test = train_test_split(X, y,\n",
        "                                                    test_size = 0.2, random_state = RANDOM_STATE)\n",
        "\n"
      ]
    },
    {
      "cell_type": "code",
      "source": [
        "X_train.shape, X_test.shape, y_train.shape, y_test.shape"
      ],
      "metadata": {
        "colab": {
          "base_uri": "https://localhost:8080/"
        },
        "id": "cAeGgLmlMGk3",
        "outputId": "5463e02e-d932-48f3-f8c3-7da84569cf63"
      },
      "execution_count": null,
      "outputs": [
        {
          "output_type": "execute_result",
          "data": {
            "text/plain": [
              "((404, 13), (102, 13), (404,), (102,))"
            ]
          },
          "metadata": {},
          "execution_count": 6
        }
      ]
    },
    {
      "cell_type": "markdown",
      "metadata": {
        "id": "PXe7v1yZkQHI"
      },
      "source": [
        "2. Обучите стандартную регрессию, а также Ridge и  Lasso с параметрами по умолчанию и выведите их R2 на тестовой выборке"
      ]
    },
    {
      "cell_type": "code",
      "execution_count": null,
      "metadata": {
        "id": "DdvPDOGmkQHI",
        "colab": {
          "base_uri": "https://localhost:8080/"
        },
        "outputId": "223e7f9c-ef75-4891-9798-084a137a6d4a"
      },
      "outputs": [
        {
          "output_type": "stream",
          "name": "stdout",
          "text": [
            "R2 Linear regression: 0.6684825753971617\n"
          ]
        }
      ],
      "source": [
        "model = LinearRegression()\n",
        "model.fit(X_train, y_train) # обучим нашу модель\n",
        "y_pred = model.predict(X_test) # предскажем значения y\n",
        "print('R2 Linear regression:', r2_score(y_test, y_pred))\n",
        "\n",
        "#r2_lr = 0\n",
        "#r2_ridge = 0\n",
        "#r2_lasso = 0\n",
        "#results_regression.loc[0] = ['LR', 'task2', r2_lr]\n",
        "#results_regression.loc[1] = ['Ridge', 'task2', r2_ridge]\n",
        "#results_regression.loc[2] = ['Lasso', 'task2', r2_lasso]"
      ]
    },
    {
      "cell_type": "markdown",
      "source": [
        "**Ridge**"
      ],
      "metadata": {
        "id": "8D9l6IDHgkd-"
      }
    },
    {
      "cell_type": "code",
      "source": [
        "model_ridge = Ridge()\n",
        "model_ridge.fit(X_train, y_train)\n",
        "y_pred_ridge = model_ridge.predict(X_test) # предскажем значения y\n",
        "print('R2 Ridge:', r2_score(y_test, y_pred_ridge))\n"
      ],
      "metadata": {
        "colab": {
          "base_uri": "https://localhost:8080/"
        },
        "id": "oWFSDjM9gi1B",
        "outputId": "c65abbbe-9870-4c90-9f88-f041ec1f743a"
      },
      "execution_count": null,
      "outputs": [
        {
          "output_type": "stream",
          "name": "stdout",
          "text": [
            "R2 Ridge: 0.6659608075261694\n"
          ]
        }
      ]
    },
    {
      "cell_type": "markdown",
      "source": [
        "**Lasso**"
      ],
      "metadata": {
        "id": "AALxq9gMiBqF"
      }
    },
    {
      "cell_type": "code",
      "source": [
        "model_lasso = Lasso()\n",
        "model_lasso.fit(X_train, y_train)\n",
        "y_pred_lasso = model_lasso.predict(X_test) # предскажем значения y\n",
        "print('R2 Lasso:', r2_score(y_test, y_pred_lasso))"
      ],
      "metadata": {
        "colab": {
          "base_uri": "https://localhost:8080/"
        },
        "id": "krNKprjsiF-p",
        "outputId": "5563682b-b7a0-4376-9f3d-b10fb47225dc"
      },
      "execution_count": null,
      "outputs": [
        {
          "output_type": "stream",
          "name": "stdout",
          "text": [
            "R2 Lasso: 0.6668687223368213\n"
          ]
        }
      ]
    },
    {
      "cell_type": "markdown",
      "metadata": {
        "id": "Q7-bKQa5kQHJ"
      },
      "source": [
        "3. Для Ridge и Lasso подберите коэффициент регуляризации двумя способами 1) GridSearchCV, 2) RidgeCV и LassoCV, в пределах от $10^{-5}$ до $10^5$ (по степеням 10). Посчитайте R2 на тестовой выборке по всем моделям и сравните с предыдущими результатами."
      ]
    },
    {
      "cell_type": "code",
      "execution_count": 40,
      "metadata": {
        "id": "R38zriSakQHJ",
        "colab": {
          "base_uri": "https://localhost:8080/"
        },
        "outputId": "fcb8f5cf-81a4-4777-df2f-cab6e80e3e03"
      },
      "outputs": [
        {
          "output_type": "stream",
          "name": "stdout",
          "text": [
            "The best value of alpha is: {'alpha': 1e-05}\n",
            "{'alpha': 1e-05} {'alpha': 1e-05}\n",
            "R2 Ridge_GridSearchCV: 0.6684825680074258\n",
            "R2 Lasso_GridSearchCV: 0.6684829595885677\n",
            "alpha= 0.021544346900318846\n",
            "R2 Ridge_RidgeCV: 0.6684636466375218\n",
            "alpha= 1e-05\n",
            "R2 Lasso_LassoCV: 0.6684829595885677\n"
          ]
        }
      ],
      "source": [
        "alpha_values = {'alpha': np.logspace(-5, 5, 10)}\n",
        "ridge = GridSearchCV(Ridge(),\n",
        "                     alpha_values,\n",
        "                     scoring = 'neg_mean_squared_error',\n",
        "                     cv = 10)\n",
        "print('The best value of alpha is:', ridge.fit(X_train,y_train).best_params_)\n",
        "lasso = GridSearchCV(Lasso(),\n",
        "                     alpha_values,\n",
        "                     scoring = 'neg_mean_squared_error',\n",
        "                     cv = 10)\n",
        "print(ridge.fit(X_train,y_train).best_params_,lasso.fit(X_train,y_train).best_params_)\n",
        "\n",
        "ridge_GSCV_best = ridge.best_estimator_\n",
        "ridge_GSCV_r2 = r2_score(y_test, ridge_GSCV_best.predict(X_test))\n",
        "\n",
        "lasso_GSCV_best = lasso.best_estimator_\n",
        "lasso_GSCV_r2 = r2_score(y_test, lasso_GSCV_best.predict(X_test))\n",
        "print('R2 Ridge_GridSearchCV:', ridge_GSCV_r2)\n",
        "print('R2 Lasso_GridSearchCV:', lasso_GSCV_r2)\n",
        "\n",
        "RidCV = RidgeCV(alphas = np.logspace(-5, 5, 10))\n",
        "RidCV.fit(X_train, y_train)\n",
        "print('alpha=', RidCV.alpha_)\n",
        "\n",
        "RidCV_best = Ridge(alpha=RidCV.alpha_)\n",
        "RidCV_best.fit(X_train, y_train)\n",
        "\n",
        "Ridge_RidCV_r2 = r2_score(y_test, RidCV_best.predict(X_test))\n",
        "print('R2 Ridge_RidgeCV:', Ridge_RidCV_r2)\n",
        "\n",
        "LassCV = LassoCV(alphas = np.logspace(-5, 5, 10))\n",
        "LassCV.fit(X_train, y_train)\n",
        "print('alpha=', LassCV.alpha_)\n",
        "\n",
        "Lasso_LassCV_r2 = r2_score(y_test, LassCV.predict(X_test))\n",
        "print('R2 Lasso_LassoCV:', Lasso_LassCV_r2)\n"
      ]
    },
    {
      "cell_type": "markdown",
      "metadata": {
        "id": "scbts-G-kQHJ"
      },
      "source": [
        "4. Проведите масштабирование выборки (используйте Pipeline, StandardScaler, MinMaxScaler), посчитайте R2 для Ridge и Lasso с параметрами по умолчанию и сравните с предыдущими результатами."
      ]
    },
    {
      "cell_type": "code",
      "execution_count": null,
      "metadata": {
        "id": "j98-_d-TkQHK",
        "colab": {
          "base_uri": "https://localhost:8080/"
        },
        "outputId": "2edb57f3-b8ef-4bff-ea4c-5fc8e134a59e"
      },
      "outputs": [
        {
          "output_type": "stream",
          "name": "stdout",
          "text": [
            "R2_Linear_regression_StandardScaler: 0.6684825753971608\n",
            "R2_Ridge_StandardScaler: 0.668190107677443\n",
            "R2_Lasso_StandardScaler: 0.624044752347846\n",
            "R2_Linear_MinMaxScaler: 0.6684825753971607\n",
            "R2_Ridge_MinMaxScaler: 0.6762207658974595\n",
            "R2_Lasso_MinMaxScaler: 0.2573921442545195\n"
          ]
        }
      ],
      "source": [
        "Linear_StScal = Pipeline(steps = [(\"scaler\", StandardScaler()), (\"regression\", LinearRegression())])\n",
        "Linear_StScal.fit(X_train, y_train)\n",
        "\n",
        "Linear_StScal_r2 = r2_score(y_test, Linear_StScal.predict(X_test))\n",
        "print('R2_Linear_regression_StandardScaler:', Linear_StScal_r2)\n",
        "\n",
        "Ridge_StScal = Pipeline(steps = [(\"scaler\", StandardScaler()), (\"regression\", Ridge())])\n",
        "Ridge_StScal.fit(X_train, y_train)\n",
        "\n",
        "Ridge_StScal_r2 = r2_score(y_test, Ridge_StScal.predict(X_test))\n",
        "print('R2_Ridge_StandardScaler:', Ridge_StScal_r2)\n",
        "\n",
        "Lasso_StScal = Pipeline(steps = [(\"scaler\", StandardScaler()), (\"regression\", Lasso())])\n",
        "Lasso_StScal.fit(X_train, y_train)\n",
        "\n",
        "Lasso_StScal_r2 = r2_score(y_test, Lasso_StScal.predict(X_test))\n",
        "print('R2_Lasso_StandardScaler:', Lasso_StScal_r2)\n",
        "\n",
        "Linear_MinMaxScal = Pipeline(steps = [(\"scaler\", MinMaxScaler()), (\"regression\", LinearRegression())])\n",
        "Linear_MinMaxScal.fit(X_train, y_train)\n",
        "\n",
        "Linear_MinMaxScal_r2 = r2_score(y_test, Linear_MinMaxScal.predict(X_test))\n",
        "print('R2_Linear_MinMaxScaler:', Linear_MinMaxScal_r2)\n",
        "\n",
        "Ridge_MinMaxScal = Pipeline(steps = [(\"scaler\", MinMaxScaler()), (\"regression\", Ridge())])\n",
        "Ridge_MinMaxScal.fit(X_train, y_train)\n",
        "\n",
        "Ridge_MinMaxScal_r2 = r2_score(y_test, Ridge_MinMaxScal.predict(X_test))\n",
        "print('R2_Ridge_MinMaxScaler:', Ridge_MinMaxScal_r2)\n",
        "\n",
        "Lasso_MinMaxScal = Pipeline(steps = [(\"scaler\", MinMaxScaler()), (\"regression\", Lasso())])\n",
        "Lasso_MinMaxScal.fit(X_train, y_train)\n",
        "\n",
        "Lasso_MinMaxScal_r2 = r2_score(y_test, Lasso_MinMaxScal.predict(X_test))\n",
        "print('R2_Lasso_MinMaxScaler:', Lasso_MinMaxScal_r2)"
      ]
    },
    {
      "cell_type": "markdown",
      "source": [
        "Коэффициент детерминации у линейной регрессии после масштабирования не изменился.\n",
        "Коэффициент детерминации у  Ridge  после масштабирования  MinMaxScaler  улучшился.\n",
        "Коэффициент детерминации у  Lasso  после масштабирования ухудшился.\n",
        "\n",
        "\n"
      ],
      "metadata": {
        "id": "8ZXNeRNIPSm8"
      }
    },
    {
      "cell_type": "markdown",
      "metadata": {
        "id": "G67x2U3WkQHK"
      },
      "source": [
        "5. Подберите коэффициент регуляризации для Ridge и Lasso на масштабированных данных, посчитайте R2 и сравните с предыдущими результатами."
      ]
    },
    {
      "cell_type": "code",
      "execution_count": 36,
      "metadata": {
        "id": "zV4uCfOHkQHK",
        "colab": {
          "base_uri": "https://localhost:8080/"
        },
        "outputId": "86c0ddfe-b095-438f-c862-78ce3c6ce6b9"
      },
      "outputs": [
        {
          "output_type": "stream",
          "name": "stdout",
          "text": [
            "Alpha для Ridge на StandardScaler: 3.593813663804626\n",
            "R2_Ridge_StandardScaler: 0.6674380728546585\n",
            "Alpha для Ridge на MinMaxScaler: 0.2782559402207126\n",
            "R2_Ridge_MinMaxScaler: 0.6716879333432204\n",
            "Alpha для Lasso на StandardScaler: 1e-05\n",
            "R2_Lasso_StandardScaler: 0.6684821312777706\n",
            "Alpha для Lasso на MinMaxScaler: 1e-05\n",
            "R2_Lasso_MinMaxScaler: 0.6684836564428189\n"
          ]
        }
      ],
      "source": [
        "alpha_values = {'regression__alpha': np.logspace(-5, 5, 10)}\n",
        "\n",
        "Ridge_StScal = Pipeline(steps = [(\"scaler\", StandardScaler()), (\"regression\", Ridge())])\n",
        "Ridge_StScal_GSCV = GridSearchCV(Ridge_StScal, alpha_values)\n",
        "Ridge_StScal_GSCV.fit(X_train, y_train)\n",
        "Ridge_StScal_GSCV_r2 = r2_score(y_test, Ridge_StScal_GSCV.predict(X_test))\n",
        "print('Alpha для Ridge на StandardScaler:', Ridge_StScal_GSCV.best_params_.get('regression__alpha'))\n",
        "print('R2_Ridge_StandardScaler:', Ridge_StScal_GSCV_r2)\n",
        "\n",
        "Ridge_MinMaxScal = Pipeline(steps = [(\"scaler\", MinMaxScaler()), (\"regression\", Ridge())])\n",
        "Ridge_MinMaxScal_GSCV = GridSearchCV(Ridge_MinMaxScal, alpha_values)\n",
        "Ridge_MinMaxScal_GSCV.fit(X_train, y_train)\n",
        "Ridge_MinMaxScal_GSCV_r2 = r2_score(y_test, Ridge_MinMaxScal_GSCV.predict(X_test))\n",
        "print('Alpha для Ridge на MinMaxScaler:', Ridge_MinMaxScal_GSCV.best_params_.get('regression__alpha'))\n",
        "print('R2_Ridge_MinMaxScaler:', Ridge_MinMaxScal_GSCV_r2)\n",
        "\n",
        "Lasso_StScal = Pipeline(steps = [(\"scaler\", StandardScaler()), (\"regression\", Lasso())])\n",
        "Lasso_StScal_GSCV = GridSearchCV(Lasso_StScal, alpha_values)\n",
        "Lasso_StScal_GSCV.fit(X_train, y_train)\n",
        "Lasso_StScal_GSCV_r2 = r2_score(y_test, Lasso_StScal_GSCV.predict(X_test))\n",
        "print('Alpha для Lasso на StandardScaler:', Lasso_StScal_GSCV.best_params_.get('regression__alpha'))\n",
        "print('R2_Lasso_StandardScaler:', Lasso_StScal_GSCV_r2)\n",
        "\n",
        "Lasso_MinMaxScal = Pipeline(steps = [(\"scaler\", MinMaxScaler()), (\"regression\", Lasso())])\n",
        "Lasso_MinMaxScal_GSCV = GridSearchCV(Lasso_MinMaxScal, alpha_values)\n",
        "Lasso_MinMaxScal_GSCV.fit(X_train, y_train)\n",
        "Lasso_MinMaxScal_GSCV_r2 = r2_score(y_test, Lasso_MinMaxScal_GSCV.predict(X_test))\n",
        "print('Alpha для Lasso на MinMaxScaler:',  Lasso_MinMaxScal_GSCV.best_params_.get('regression__alpha'))\n",
        "print('R2_Lasso_MinMaxScaler:', Lasso_MinMaxScal_GSCV_r2)\n",
        "\n"
      ]
    },
    {
      "cell_type": "markdown",
      "metadata": {
        "id": "_moIwieakQHL"
      },
      "source": [
        "6. Добавьте попарные произведения признаков и их квадраты (используйте PolynomialFeatures) на масштабированных признаках, посчитайте R2 для Ridge и Lasso с параметрами по умолчанию и сравните с предыдущими результатами."
      ]
    },
    {
      "cell_type": "code",
      "execution_count": null,
      "metadata": {
        "id": "59t9cPkokQHL",
        "colab": {
          "base_uri": "https://localhost:8080/"
        },
        "outputId": "3689e920-6471-44fc-8726-b9e7e6bb67da"
      },
      "outputs": [
        {
          "output_type": "stream",
          "name": "stdout",
          "text": [
            "R2_Ridge_StandardScaler: 0.8171359789657098\n",
            "R2_Ridge_MinMaxScaler: 0.8298862467502747\n",
            "R2_Lasso_StandardScaler: 0.7322738282708989\n",
            "R2_Lasso_MinMaxScaler: 0.2611262741735658\n"
          ]
        }
      ],
      "source": [
        "Ridge_StScal_Polynom = Pipeline(steps = [(\"scaler\", StandardScaler()), (\"polynomial\", PolynomialFeatures(degree=2)), (\"regression\", Ridge())])\n",
        "Ridge_StScal_Polynom.fit(X_train, y_train)\n",
        "Ridge_StScal_Polynom.predict(X_test)\n",
        "Ridge_StScal_Polynom_r2 = r2_score(y_test, Ridge_StScal_Polynom.predict(X_test))\n",
        "print('R2_Ridge_StandardScaler:', Ridge_StScal_Polynom_r2)\n",
        "\n",
        "Ridge_MinMaxScal_Polynom = Pipeline(steps = [(\"scaler\", MinMaxScaler()), (\"polynomial\", PolynomialFeatures(degree=2)), (\"regression\", Ridge())])\n",
        "Ridge_MinMaxScal_Polynom.fit(X_train, y_train)\n",
        "Ridge_MinMaxScal_Polynom.predict(X_test)\n",
        "Ridge_MinMaxScal_Polynom_r2 = r2_score(y_test, Ridge_MinMaxScal_Polynom.predict(X_test))\n",
        "print('R2_Ridge_MinMaxScaler:', Ridge_MinMaxScal_Polynom_r2)\n",
        "\n",
        "Lasso_StScal_Polynom = Pipeline(steps = [(\"scaler\", StandardScaler()), (\"polynomial\", PolynomialFeatures(degree=2)), (\"regression\", Lasso())])\n",
        "Lasso_StScal_Polynom.fit(X_train, y_train)\n",
        "Lasso_StScal_Polynom.predict(X_test)\n",
        "Lasso_StScal_Polynom_r2 = r2_score(y_test, Lasso_StScal_Polynom.predict(X_test))\n",
        "print('R2_Lasso_StandardScaler:', Lasso_StScal_Polynom_r2)\n",
        "\n",
        "Lasso_MinMaxScal_Polynom = Pipeline(steps = [(\"scaler\", MinMaxScaler()), (\"polynomial\", PolynomialFeatures(degree=2)), (\"regression\", Lasso())])\n",
        "Lasso_MinMaxScal_Polynom.fit(X_train, y_train)\n",
        "Lasso_MinMaxScal_Polynom.predict(X_test)\n",
        "Lasso_MinMaxScal_Polynom_r2 = r2_score(y_test, Lasso_MinMaxScal_Polynom.predict(X_test))\n",
        "print('R2_Lasso_MinMaxScaler:', Lasso_MinMaxScal_Polynom_r2)\n"
      ]
    },
    {
      "cell_type": "markdown",
      "metadata": {
        "id": "3RJVhHuUkQHL"
      },
      "source": [
        "7. Подберите коэффициент регуляризации для Ridge и Lasso на масштабированных данных, добавив PolynomialFeatures, посчитайте R2 и сравните с предыдущими результатами."
      ]
    },
    {
      "cell_type": "code",
      "execution_count": null,
      "metadata": {
        "id": "yjrqM8xBkQHM",
        "colab": {
          "base_uri": "https://localhost:8080/"
        },
        "outputId": "87c141da-9298-41e2-d750-8ba663e3342f"
      },
      "outputs": [
        {
          "output_type": "stream",
          "name": "stdout",
          "text": [
            "R2_Ridge_StandardScaler_PolynomialFeatures_GridSearchCV: 0.8215015231918026\n",
            "R2_Ridge_MinMaxScaler_PolynomialFeatures_GridSearchCV: 0.8486007338517558\n",
            "R2_Lasso_StandardScaler_PolynomialFeatures_GridSearchCV: 0.8171615214862488\n",
            "R2_Lasso_MinMaxScaler_PolynomialFeatures_GridSearchCV: 0.8497743399242613\n"
          ]
        }
      ],
      "source": [
        "alpha_values = {'regression__alpha':np.logspace(-5, 5, 10)}\n",
        "\n",
        "Ridge_StScal_Polynom = Pipeline(steps = [(\"scaler\", StandardScaler()), (\"polynomial\", PolynomialFeatures(degree=2)), (\"regression\", Ridge())])\n",
        "Ridge_StScal_Polynom_GSCV = GridSearchCV(Ridge_StScal_Polynom, alpha_values)\n",
        "Ridge_StScal_Polynom_GSCV.fit(X_train, y_train)\n",
        "Ridge_StScal_Polynom_GSCV_r2 = r2_score(y_test, Ridge_StScal_Polynom_GSCV.predict(X_test))\n",
        "print('R2_Ridge_StandardScaler_PolynomialFeatures_GridSearchCV:', Ridge_StScal_Polynom_GSCV_r2)\n",
        "\n",
        "Ridge_MinMaxScal_Polynom = Pipeline(steps = [(\"scaler\", MinMaxScaler()), (\"polynomial\", PolynomialFeatures(degree=2)), (\"regression\", Ridge())])\n",
        "Ridge_MinMaxScal_Polynom_GSCV = GridSearchCV(Ridge_MinMaxScal_Polynom, alpha_values)\n",
        "Ridge_MinMaxScal_Polynom_GSCV.fit(X_train, y_train)\n",
        "Ridge_MinMaxScal_Polynom_GSCV_r2 = r2_score(y_test, Ridge_MinMaxScal_Polynom_GSCV.predict(X_test))\n",
        "print('R2_Ridge_MinMaxScaler_PolynomialFeatures_GridSearchCV:', Ridge_MinMaxScal_Polynom_GSCV_r2)\n",
        "\n",
        "Lasso_StScal_Polynom = Pipeline(steps = [(\"scaler\", StandardScaler()), (\"polynomial\", PolynomialFeatures(degree=2)), (\"regression\", Lasso())])\n",
        "Lasso_StScal_Polynom_GSCV = GridSearchCV(Lasso_StScal_Polynom, alpha_values)\n",
        "Lasso_StScal_Polynom_GSCV.fit(X_train, y_train)\n",
        "Lasso_StScal_Polynom_GSCV_r2 = r2_score(y_test, Lasso_StScal_Polynom_GSCV.predict(X_test))\n",
        "print('R2_Lasso_StandardScaler_PolynomialFeatures_GridSearchCV:', Lasso_StScal_Polynom_GSCV_r2)\n",
        "\n",
        "Lasso_MinMaxScal_Polynom = Pipeline(steps = [(\"scaler\", MinMaxScaler()), (\"polynomial\", PolynomialFeatures(degree=2)), (\"regression\", Lasso())])\n",
        "Lasso_MinMaxScal_Polynom_GSCV = GridSearchCV(Lasso_MinMaxScal_Polynom, alpha_values)\n",
        "Lasso_MinMaxScal_Polynom_GSCV.fit(X_train, y_train)\n",
        "Lasso_MinMaxScal_Polynom_GSCV_r2 = r2_score(y_test, Lasso_MinMaxScal_Polynom_GSCV.predict(X_test))\n",
        "print('R2_Lasso_MinMaxScaler_PolynomialFeatures_GridSearchCV:', Lasso_MinMaxScal_Polynom_GSCV_r2)\n",
        "\n"
      ]
    },
    {
      "cell_type": "markdown",
      "metadata": {
        "id": "fFjLvwqSkQHM"
      },
      "source": [
        "8. Подберите наилучшую модель (используйте Pipeline, GridSearchSCV) подбирая тип регуляризации (L1,L2), коэффициент регуляризации, метод масштабирования и степень полинома в PolynomialFeatures. Выведите итоговые параметры и результат R2."
      ]
    },
    {
      "cell_type": "code",
      "execution_count": null,
      "metadata": {
        "id": "vcmYsm6YkQHM"
      },
      "outputs": [],
      "source": []
    },
    {
      "cell_type": "code",
      "execution_count": null,
      "metadata": {
        "id": "tN9wInUKkQHN",
        "colab": {
          "base_uri": "https://localhost:8080/",
          "height": 399
        },
        "outputId": "87111834-220a-42d8-ec5e-e6733a023ada"
      },
      "outputs": [
        {
          "output_type": "execute_result",
          "data": {
            "text/plain": [
              "   age         workclass  fnlwgt  education  education-num  \\\n",
              "0   39         State-gov   77516  Bachelors             13   \n",
              "1   50  Self-emp-not-inc   83311  Bachelors             13   \n",
              "2   38           Private  215646    HS-grad              9   \n",
              "3   53           Private  234721       11th              7   \n",
              "4   28           Private  338409  Bachelors             13   \n",
              "\n",
              "       marital-status         occupation   relationship   race     sex  \\\n",
              "0       Never-married       Adm-clerical  Not-in-family  White    Male   \n",
              "1  Married-civ-spouse    Exec-managerial        Husband  White    Male   \n",
              "2            Divorced  Handlers-cleaners  Not-in-family  White    Male   \n",
              "3  Married-civ-spouse  Handlers-cleaners        Husband  Black    Male   \n",
              "4  Married-civ-spouse     Prof-specialty           Wife  Black  Female   \n",
              "\n",
              "   capital-gain  capital-loss  hours-per-week native-country  class  \n",
              "0          2174             0              40  United-States  <=50K  \n",
              "1             0             0              13  United-States  <=50K  \n",
              "2             0             0              40  United-States  <=50K  \n",
              "3             0             0              40  United-States  <=50K  \n",
              "4             0             0              40           Cuba  <=50K  "
            ],
            "text/html": [
              "\n",
              "  <div id=\"df-3042a7d4-598c-4168-97b5-bfb79493d618\" class=\"colab-df-container\">\n",
              "    <div>\n",
              "<style scoped>\n",
              "    .dataframe tbody tr th:only-of-type {\n",
              "        vertical-align: middle;\n",
              "    }\n",
              "\n",
              "    .dataframe tbody tr th {\n",
              "        vertical-align: top;\n",
              "    }\n",
              "\n",
              "    .dataframe thead th {\n",
              "        text-align: right;\n",
              "    }\n",
              "</style>\n",
              "<table border=\"1\" class=\"dataframe\">\n",
              "  <thead>\n",
              "    <tr style=\"text-align: right;\">\n",
              "      <th></th>\n",
              "      <th>age</th>\n",
              "      <th>workclass</th>\n",
              "      <th>fnlwgt</th>\n",
              "      <th>education</th>\n",
              "      <th>education-num</th>\n",
              "      <th>marital-status</th>\n",
              "      <th>occupation</th>\n",
              "      <th>relationship</th>\n",
              "      <th>race</th>\n",
              "      <th>sex</th>\n",
              "      <th>capital-gain</th>\n",
              "      <th>capital-loss</th>\n",
              "      <th>hours-per-week</th>\n",
              "      <th>native-country</th>\n",
              "      <th>class</th>\n",
              "    </tr>\n",
              "  </thead>\n",
              "  <tbody>\n",
              "    <tr>\n",
              "      <th>0</th>\n",
              "      <td>39</td>\n",
              "      <td>State-gov</td>\n",
              "      <td>77516</td>\n",
              "      <td>Bachelors</td>\n",
              "      <td>13</td>\n",
              "      <td>Never-married</td>\n",
              "      <td>Adm-clerical</td>\n",
              "      <td>Not-in-family</td>\n",
              "      <td>White</td>\n",
              "      <td>Male</td>\n",
              "      <td>2174</td>\n",
              "      <td>0</td>\n",
              "      <td>40</td>\n",
              "      <td>United-States</td>\n",
              "      <td>&lt;=50K</td>\n",
              "    </tr>\n",
              "    <tr>\n",
              "      <th>1</th>\n",
              "      <td>50</td>\n",
              "      <td>Self-emp-not-inc</td>\n",
              "      <td>83311</td>\n",
              "      <td>Bachelors</td>\n",
              "      <td>13</td>\n",
              "      <td>Married-civ-spouse</td>\n",
              "      <td>Exec-managerial</td>\n",
              "      <td>Husband</td>\n",
              "      <td>White</td>\n",
              "      <td>Male</td>\n",
              "      <td>0</td>\n",
              "      <td>0</td>\n",
              "      <td>13</td>\n",
              "      <td>United-States</td>\n",
              "      <td>&lt;=50K</td>\n",
              "    </tr>\n",
              "    <tr>\n",
              "      <th>2</th>\n",
              "      <td>38</td>\n",
              "      <td>Private</td>\n",
              "      <td>215646</td>\n",
              "      <td>HS-grad</td>\n",
              "      <td>9</td>\n",
              "      <td>Divorced</td>\n",
              "      <td>Handlers-cleaners</td>\n",
              "      <td>Not-in-family</td>\n",
              "      <td>White</td>\n",
              "      <td>Male</td>\n",
              "      <td>0</td>\n",
              "      <td>0</td>\n",
              "      <td>40</td>\n",
              "      <td>United-States</td>\n",
              "      <td>&lt;=50K</td>\n",
              "    </tr>\n",
              "    <tr>\n",
              "      <th>3</th>\n",
              "      <td>53</td>\n",
              "      <td>Private</td>\n",
              "      <td>234721</td>\n",
              "      <td>11th</td>\n",
              "      <td>7</td>\n",
              "      <td>Married-civ-spouse</td>\n",
              "      <td>Handlers-cleaners</td>\n",
              "      <td>Husband</td>\n",
              "      <td>Black</td>\n",
              "      <td>Male</td>\n",
              "      <td>0</td>\n",
              "      <td>0</td>\n",
              "      <td>40</td>\n",
              "      <td>United-States</td>\n",
              "      <td>&lt;=50K</td>\n",
              "    </tr>\n",
              "    <tr>\n",
              "      <th>4</th>\n",
              "      <td>28</td>\n",
              "      <td>Private</td>\n",
              "      <td>338409</td>\n",
              "      <td>Bachelors</td>\n",
              "      <td>13</td>\n",
              "      <td>Married-civ-spouse</td>\n",
              "      <td>Prof-specialty</td>\n",
              "      <td>Wife</td>\n",
              "      <td>Black</td>\n",
              "      <td>Female</td>\n",
              "      <td>0</td>\n",
              "      <td>0</td>\n",
              "      <td>40</td>\n",
              "      <td>Cuba</td>\n",
              "      <td>&lt;=50K</td>\n",
              "    </tr>\n",
              "  </tbody>\n",
              "</table>\n",
              "</div>\n",
              "    <div class=\"colab-df-buttons\">\n",
              "\n",
              "  <div class=\"colab-df-container\">\n",
              "    <button class=\"colab-df-convert\" onclick=\"convertToInteractive('df-3042a7d4-598c-4168-97b5-bfb79493d618')\"\n",
              "            title=\"Convert this dataframe to an interactive table.\"\n",
              "            style=\"display:none;\">\n",
              "\n",
              "  <svg xmlns=\"http://www.w3.org/2000/svg\" height=\"24px\" viewBox=\"0 -960 960 960\">\n",
              "    <path d=\"M120-120v-720h720v720H120Zm60-500h600v-160H180v160Zm220 220h160v-160H400v160Zm0 220h160v-160H400v160ZM180-400h160v-160H180v160Zm440 0h160v-160H620v160ZM180-180h160v-160H180v160Zm440 0h160v-160H620v160Z\"/>\n",
              "  </svg>\n",
              "    </button>\n",
              "\n",
              "  <style>\n",
              "    .colab-df-container {\n",
              "      display:flex;\n",
              "      gap: 12px;\n",
              "    }\n",
              "\n",
              "    .colab-df-convert {\n",
              "      background-color: #E8F0FE;\n",
              "      border: none;\n",
              "      border-radius: 50%;\n",
              "      cursor: pointer;\n",
              "      display: none;\n",
              "      fill: #1967D2;\n",
              "      height: 32px;\n",
              "      padding: 0 0 0 0;\n",
              "      width: 32px;\n",
              "    }\n",
              "\n",
              "    .colab-df-convert:hover {\n",
              "      background-color: #E2EBFA;\n",
              "      box-shadow: 0px 1px 2px rgba(60, 64, 67, 0.3), 0px 1px 3px 1px rgba(60, 64, 67, 0.15);\n",
              "      fill: #174EA6;\n",
              "    }\n",
              "\n",
              "    .colab-df-buttons div {\n",
              "      margin-bottom: 4px;\n",
              "    }\n",
              "\n",
              "    [theme=dark] .colab-df-convert {\n",
              "      background-color: #3B4455;\n",
              "      fill: #D2E3FC;\n",
              "    }\n",
              "\n",
              "    [theme=dark] .colab-df-convert:hover {\n",
              "      background-color: #434B5C;\n",
              "      box-shadow: 0px 1px 3px 1px rgba(0, 0, 0, 0.15);\n",
              "      filter: drop-shadow(0px 1px 2px rgba(0, 0, 0, 0.3));\n",
              "      fill: #FFFFFF;\n",
              "    }\n",
              "  </style>\n",
              "\n",
              "    <script>\n",
              "      const buttonEl =\n",
              "        document.querySelector('#df-3042a7d4-598c-4168-97b5-bfb79493d618 button.colab-df-convert');\n",
              "      buttonEl.style.display =\n",
              "        google.colab.kernel.accessAllowed ? 'block' : 'none';\n",
              "\n",
              "      async function convertToInteractive(key) {\n",
              "        const element = document.querySelector('#df-3042a7d4-598c-4168-97b5-bfb79493d618');\n",
              "        const dataTable =\n",
              "          await google.colab.kernel.invokeFunction('convertToInteractive',\n",
              "                                                    [key], {});\n",
              "        if (!dataTable) return;\n",
              "\n",
              "        const docLinkHtml = 'Like what you see? Visit the ' +\n",
              "          '<a target=\"_blank\" href=https://colab.research.google.com/notebooks/data_table.ipynb>data table notebook</a>'\n",
              "          + ' to learn more about interactive tables.';\n",
              "        element.innerHTML = '';\n",
              "        dataTable['output_type'] = 'display_data';\n",
              "        await google.colab.output.renderOutput(dataTable, element);\n",
              "        const docLink = document.createElement('div');\n",
              "        docLink.innerHTML = docLinkHtml;\n",
              "        element.appendChild(docLink);\n",
              "      }\n",
              "    </script>\n",
              "  </div>\n",
              "\n",
              "\n",
              "<div id=\"df-b6101133-3ded-47f3-bcde-74fae88466dd\">\n",
              "  <button class=\"colab-df-quickchart\" onclick=\"quickchart('df-b6101133-3ded-47f3-bcde-74fae88466dd')\"\n",
              "            title=\"Suggest charts\"\n",
              "            style=\"display:none;\">\n",
              "\n",
              "<svg xmlns=\"http://www.w3.org/2000/svg\" height=\"24px\"viewBox=\"0 0 24 24\"\n",
              "     width=\"24px\">\n",
              "    <g>\n",
              "        <path d=\"M19 3H5c-1.1 0-2 .9-2 2v14c0 1.1.9 2 2 2h14c1.1 0 2-.9 2-2V5c0-1.1-.9-2-2-2zM9 17H7v-7h2v7zm4 0h-2V7h2v10zm4 0h-2v-4h2v4z\"/>\n",
              "    </g>\n",
              "</svg>\n",
              "  </button>\n",
              "\n",
              "<style>\n",
              "  .colab-df-quickchart {\n",
              "      --bg-color: #E8F0FE;\n",
              "      --fill-color: #1967D2;\n",
              "      --hover-bg-color: #E2EBFA;\n",
              "      --hover-fill-color: #174EA6;\n",
              "      --disabled-fill-color: #AAA;\n",
              "      --disabled-bg-color: #DDD;\n",
              "  }\n",
              "\n",
              "  [theme=dark] .colab-df-quickchart {\n",
              "      --bg-color: #3B4455;\n",
              "      --fill-color: #D2E3FC;\n",
              "      --hover-bg-color: #434B5C;\n",
              "      --hover-fill-color: #FFFFFF;\n",
              "      --disabled-bg-color: #3B4455;\n",
              "      --disabled-fill-color: #666;\n",
              "  }\n",
              "\n",
              "  .colab-df-quickchart {\n",
              "    background-color: var(--bg-color);\n",
              "    border: none;\n",
              "    border-radius: 50%;\n",
              "    cursor: pointer;\n",
              "    display: none;\n",
              "    fill: var(--fill-color);\n",
              "    height: 32px;\n",
              "    padding: 0;\n",
              "    width: 32px;\n",
              "  }\n",
              "\n",
              "  .colab-df-quickchart:hover {\n",
              "    background-color: var(--hover-bg-color);\n",
              "    box-shadow: 0 1px 2px rgba(60, 64, 67, 0.3), 0 1px 3px 1px rgba(60, 64, 67, 0.15);\n",
              "    fill: var(--button-hover-fill-color);\n",
              "  }\n",
              "\n",
              "  .colab-df-quickchart-complete:disabled,\n",
              "  .colab-df-quickchart-complete:disabled:hover {\n",
              "    background-color: var(--disabled-bg-color);\n",
              "    fill: var(--disabled-fill-color);\n",
              "    box-shadow: none;\n",
              "  }\n",
              "\n",
              "  .colab-df-spinner {\n",
              "    border: 2px solid var(--fill-color);\n",
              "    border-color: transparent;\n",
              "    border-bottom-color: var(--fill-color);\n",
              "    animation:\n",
              "      spin 1s steps(1) infinite;\n",
              "  }\n",
              "\n",
              "  @keyframes spin {\n",
              "    0% {\n",
              "      border-color: transparent;\n",
              "      border-bottom-color: var(--fill-color);\n",
              "      border-left-color: var(--fill-color);\n",
              "    }\n",
              "    20% {\n",
              "      border-color: transparent;\n",
              "      border-left-color: var(--fill-color);\n",
              "      border-top-color: var(--fill-color);\n",
              "    }\n",
              "    30% {\n",
              "      border-color: transparent;\n",
              "      border-left-color: var(--fill-color);\n",
              "      border-top-color: var(--fill-color);\n",
              "      border-right-color: var(--fill-color);\n",
              "    }\n",
              "    40% {\n",
              "      border-color: transparent;\n",
              "      border-right-color: var(--fill-color);\n",
              "      border-top-color: var(--fill-color);\n",
              "    }\n",
              "    60% {\n",
              "      border-color: transparent;\n",
              "      border-right-color: var(--fill-color);\n",
              "    }\n",
              "    80% {\n",
              "      border-color: transparent;\n",
              "      border-right-color: var(--fill-color);\n",
              "      border-bottom-color: var(--fill-color);\n",
              "    }\n",
              "    90% {\n",
              "      border-color: transparent;\n",
              "      border-bottom-color: var(--fill-color);\n",
              "    }\n",
              "  }\n",
              "</style>\n",
              "\n",
              "  <script>\n",
              "    async function quickchart(key) {\n",
              "      const quickchartButtonEl =\n",
              "        document.querySelector('#' + key + ' button');\n",
              "      quickchartButtonEl.disabled = true;  // To prevent multiple clicks.\n",
              "      quickchartButtonEl.classList.add('colab-df-spinner');\n",
              "      try {\n",
              "        const charts = await google.colab.kernel.invokeFunction(\n",
              "            'suggestCharts', [key], {});\n",
              "      } catch (error) {\n",
              "        console.error('Error during call to suggestCharts:', error);\n",
              "      }\n",
              "      quickchartButtonEl.classList.remove('colab-df-spinner');\n",
              "      quickchartButtonEl.classList.add('colab-df-quickchart-complete');\n",
              "    }\n",
              "    (() => {\n",
              "      let quickchartButtonEl =\n",
              "        document.querySelector('#df-b6101133-3ded-47f3-bcde-74fae88466dd button');\n",
              "      quickchartButtonEl.style.display =\n",
              "        google.colab.kernel.accessAllowed ? 'block' : 'none';\n",
              "    })();\n",
              "  </script>\n",
              "</div>\n",
              "    </div>\n",
              "  </div>\n"
            ],
            "application/vnd.google.colaboratory.intrinsic+json": {
              "type": "dataframe",
              "variable_name": "data",
              "summary": "{\n  \"name\": \"data\",\n  \"rows\": 48842,\n  \"fields\": [\n    {\n      \"column\": \"age\",\n      \"properties\": {\n        \"dtype\": \"number\",\n        \"std\": 13,\n        \"min\": 17,\n        \"max\": 90,\n        \"num_unique_values\": 74,\n        \"samples\": [\n          28,\n          73,\n          35\n        ],\n        \"semantic_type\": \"\",\n        \"description\": \"\"\n      }\n    },\n    {\n      \"column\": \"workclass\",\n      \"properties\": {\n        \"dtype\": \"category\",\n        \"num_unique_values\": 9,\n        \"samples\": [\n          \"Without-pay\",\n          \"Self-emp-not-inc\",\n          \"?\"\n        ],\n        \"semantic_type\": \"\",\n        \"description\": \"\"\n      }\n    },\n    {\n      \"column\": \"fnlwgt\",\n      \"properties\": {\n        \"dtype\": \"number\",\n        \"std\": 105604,\n        \"min\": 12285,\n        \"max\": 1490400,\n        \"num_unique_values\": 28523,\n        \"samples\": [\n          159077,\n          199450,\n          181773\n        ],\n        \"semantic_type\": \"\",\n        \"description\": \"\"\n      }\n    },\n    {\n      \"column\": \"education\",\n      \"properties\": {\n        \"dtype\": \"category\",\n        \"num_unique_values\": 16,\n        \"samples\": [\n          \"Bachelors\",\n          \"HS-grad\",\n          \"Some-college\"\n        ],\n        \"semantic_type\": \"\",\n        \"description\": \"\"\n      }\n    },\n    {\n      \"column\": \"education-num\",\n      \"properties\": {\n        \"dtype\": \"number\",\n        \"std\": 2,\n        \"min\": 1,\n        \"max\": 16,\n        \"num_unique_values\": 16,\n        \"samples\": [\n          13,\n          9,\n          10\n        ],\n        \"semantic_type\": \"\",\n        \"description\": \"\"\n      }\n    },\n    {\n      \"column\": \"marital-status\",\n      \"properties\": {\n        \"dtype\": \"category\",\n        \"num_unique_values\": 7,\n        \"samples\": [\n          \"Never-married\",\n          \"Married-civ-spouse\",\n          \"Married-AF-spouse\"\n        ],\n        \"semantic_type\": \"\",\n        \"description\": \"\"\n      }\n    },\n    {\n      \"column\": \"occupation\",\n      \"properties\": {\n        \"dtype\": \"category\",\n        \"num_unique_values\": 15,\n        \"samples\": [\n          \"Machine-op-inspct\",\n          \"?\",\n          \"Adm-clerical\"\n        ],\n        \"semantic_type\": \"\",\n        \"description\": \"\"\n      }\n    },\n    {\n      \"column\": \"relationship\",\n      \"properties\": {\n        \"dtype\": \"category\",\n        \"num_unique_values\": 6,\n        \"samples\": [\n          \"Not-in-family\",\n          \"Husband\",\n          \"Other-relative\"\n        ],\n        \"semantic_type\": \"\",\n        \"description\": \"\"\n      }\n    },\n    {\n      \"column\": \"race\",\n      \"properties\": {\n        \"dtype\": \"category\",\n        \"num_unique_values\": 5,\n        \"samples\": [\n          \"Black\",\n          \"Other\",\n          \"Asian-Pac-Islander\"\n        ],\n        \"semantic_type\": \"\",\n        \"description\": \"\"\n      }\n    },\n    {\n      \"column\": \"sex\",\n      \"properties\": {\n        \"dtype\": \"category\",\n        \"num_unique_values\": 2,\n        \"samples\": [\n          \"Female\",\n          \"Male\"\n        ],\n        \"semantic_type\": \"\",\n        \"description\": \"\"\n      }\n    },\n    {\n      \"column\": \"capital-gain\",\n      \"properties\": {\n        \"dtype\": \"number\",\n        \"std\": 7452,\n        \"min\": 0,\n        \"max\": 99999,\n        \"num_unique_values\": 123,\n        \"samples\": [\n          2176,\n          10520\n        ],\n        \"semantic_type\": \"\",\n        \"description\": \"\"\n      }\n    },\n    {\n      \"column\": \"capital-loss\",\n      \"properties\": {\n        \"dtype\": \"number\",\n        \"std\": 403,\n        \"min\": 0,\n        \"max\": 4356,\n        \"num_unique_values\": 99,\n        \"samples\": [\n          1974,\n          419\n        ],\n        \"semantic_type\": \"\",\n        \"description\": \"\"\n      }\n    },\n    {\n      \"column\": \"hours-per-week\",\n      \"properties\": {\n        \"dtype\": \"number\",\n        \"std\": 12,\n        \"min\": 1,\n        \"max\": 99,\n        \"num_unique_values\": 96,\n        \"samples\": [\n          97,\n          88\n        ],\n        \"semantic_type\": \"\",\n        \"description\": \"\"\n      }\n    },\n    {\n      \"column\": \"native-country\",\n      \"properties\": {\n        \"dtype\": \"category\",\n        \"num_unique_values\": 42,\n        \"samples\": [\n          \"El-Salvador\",\n          \"Philippines\"\n        ],\n        \"semantic_type\": \"\",\n        \"description\": \"\"\n      }\n    },\n    {\n      \"column\": \"class\",\n      \"properties\": {\n        \"dtype\": \"category\",\n        \"num_unique_values\": 2,\n        \"samples\": [\n          \">50K\",\n          \"<=50K\"\n        ],\n        \"semantic_type\": \"\",\n        \"description\": \"\"\n      }\n    }\n  ]\n}"
            }
          },
          "metadata": {},
          "execution_count": 17
        }
      ],
      "source": [
        "data = pd.read_csv('adult.csv')\n",
        "data.head()"
      ]
    },
    {
      "cell_type": "code",
      "source": [
        "data.info()"
      ],
      "metadata": {
        "colab": {
          "base_uri": "https://localhost:8080/"
        },
        "id": "Wwr0LSPkJwvv",
        "outputId": "700dd514-0a9e-48b5-fc46-aaeff425d569"
      },
      "execution_count": null,
      "outputs": [
        {
          "output_type": "stream",
          "name": "stdout",
          "text": [
            "<class 'pandas.core.frame.DataFrame'>\n",
            "RangeIndex: 48842 entries, 0 to 48841\n",
            "Data columns (total 15 columns):\n",
            " #   Column          Non-Null Count  Dtype \n",
            "---  ------          --------------  ----- \n",
            " 0   age             48842 non-null  int64 \n",
            " 1   workclass       48842 non-null  object\n",
            " 2   fnlwgt          48842 non-null  int64 \n",
            " 3   education       48842 non-null  object\n",
            " 4   education-num   48842 non-null  int64 \n",
            " 5   marital-status  48842 non-null  object\n",
            " 6   occupation      48842 non-null  object\n",
            " 7   relationship    48842 non-null  object\n",
            " 8   race            48842 non-null  object\n",
            " 9   sex             48842 non-null  object\n",
            " 10  capital-gain    48842 non-null  int64 \n",
            " 11  capital-loss    48842 non-null  int64 \n",
            " 12  hours-per-week  48842 non-null  int64 \n",
            " 13  native-country  48842 non-null  object\n",
            " 14  class           48842 non-null  object\n",
            "dtypes: int64(6), object(9)\n",
            "memory usage: 5.6+ MB\n"
          ]
        }
      ]
    },
    {
      "cell_type": "markdown",
      "metadata": {
        "id": "APiIqiFqkQHN"
      },
      "source": [
        "9. Разделите выборку на признаки и целевую переменную(колонка class). Замените целевую переменную на числовые значения ('<=50K' - 1, '>50K' - 0)."
      ]
    },
    {
      "cell_type": "code",
      "execution_count": null,
      "metadata": {
        "id": "3QGgPXRAkQHN",
        "colab": {
          "base_uri": "https://localhost:8080/"
        },
        "outputId": "a2be0c27-c832-43c1-fe20-53eb7cfebf8c"
      },
      "outputs": [
        {
          "output_type": "execute_result",
          "data": {
            "text/plain": [
              "1    37155\n",
              "0    11687\n",
              "Name: class, dtype: int64"
            ]
          },
          "metadata": {},
          "execution_count": 19
        }
      ],
      "source": [
        "X = data.drop(columns=['class'])\n",
        "data['class'] = data['class'].replace('<=50K', 1)\n",
        "data['class'] = data['class'].replace('>50K', 0)\n",
        "y = data['class']\n",
        "y.value_counts()\n"
      ]
    },
    {
      "cell_type": "markdown",
      "metadata": {
        "id": "yQ8JiNPUkQHN"
      },
      "source": [
        "10. Посчитайте метрики accuracy и f1_score на предсказании только самого частого класса в целевой переменной."
      ]
    },
    {
      "cell_type": "code",
      "execution_count": 24,
      "metadata": {
        "id": "uUUERR3vkQHO",
        "colab": {
          "base_uri": "https://localhost:8080/"
        },
        "outputId": "9ba64012-ad72-47d1-c165-fcfd4b509c54"
      },
      "outputs": [
        {
          "output_type": "stream",
          "name": "stdout",
          "text": [
            "0.7607182343065395\n",
            "0.8640999104619929\n"
          ]
        }
      ],
      "source": [
        "from sklearn.metrics import accuracy_score, f1_score\n",
        "y_true=y\n",
        "y_pred=np.ones_like(y_true)\n",
        "print(accuracy_score(y_true, y_pred))\n",
        "print(f1_score(y_true, y_pred))\n",
        "\n"
      ]
    },
    {
      "cell_type": "markdown",
      "metadata": {
        "id": "OYGAoJ3fkQHO"
      },
      "source": [
        "11. Выясните, присутствуют ли в данных пропуски. Если присутствуют, заполните их самыми частыми значениями (испольуйте SimpleImputer)"
      ]
    },
    {
      "cell_type": "code",
      "execution_count": 25,
      "metadata": {
        "id": "dSrnS6kwkQHO",
        "colab": {
          "base_uri": "https://localhost:8080/"
        },
        "outputId": "420ee26d-7f15-47c1-ea7b-748f19bb5a02"
      },
      "outputs": [
        {
          "output_type": "stream",
          "name": "stdout",
          "text": [
            "age               0\n",
            "workclass         0\n",
            "fnlwgt            0\n",
            "education         0\n",
            "education-num     0\n",
            "marital-status    0\n",
            "occupation        0\n",
            "relationship      0\n",
            "race              0\n",
            "sex               0\n",
            "capital-gain      0\n",
            "capital-loss      0\n",
            "hours-per-week    0\n",
            "native-country    0\n",
            "class             0\n",
            "dtype: int64\n"
          ]
        }
      ],
      "source": [
        "print(data.isnull().sum())"
      ]
    },
    {
      "cell_type": "markdown",
      "source": [
        "пропусков нет"
      ],
      "metadata": {
        "id": "h0eEYIFDdByd"
      }
    },
    {
      "cell_type": "markdown",
      "metadata": {
        "id": "sbJcbh2EkQHO"
      },
      "source": [
        "12. Выберите колонки с числовыми и категориальными переменными (используя возможности pandas)."
      ]
    },
    {
      "cell_type": "code",
      "execution_count": 35,
      "metadata": {
        "id": "SPISap2bkQHO",
        "colab": {
          "base_uri": "https://localhost:8080/"
        },
        "outputId": "ea64fba0-318b-4a23-e784-5f5e164b0a8f"
      },
      "outputs": [
        {
          "output_type": "stream",
          "name": "stdout",
          "text": [
            "Числовые: ['age', 'fnlwgt', 'education-num', 'capital-gain', 'capital-loss', 'hours-per-week', 'class']\n",
            "Категориальные: ['workclass', 'education', 'marital-status', 'occupation', 'relationship', 'race', 'sex', 'native-country']\n"
          ]
        }
      ],
      "source": [
        "columns = data.applymap(np.isreal).all()\n",
        "True_columns = data.columns[columns].tolist()\n",
        "False_columns = data.columns[~columns].tolist()\n",
        "print('Числовые:', True_columns)\n",
        "print('Категориальные:', False_columns)"
      ]
    },
    {
      "cell_type": "markdown",
      "metadata": {
        "id": "J5Kug0cTkQHP"
      },
      "source": [
        "13. Создайте пайплайн по обработке числовых и категориальных значений колонок (используйте OneHotEncoder,MinMaxScaler) и посчитайте cross_val_score по алгоритмам LogisticRegression, KNeighborsClassifier, LinearSVC по метрикам accuracy и f1_score."
      ]
    },
    {
      "cell_type": "code",
      "execution_count": null,
      "metadata": {
        "id": "0S79xtYLkQHP"
      },
      "outputs": [],
      "source": [
        "\n",
        "\n",
        "### Ваш код ###\n",
        "\n",
        "f1_LR = 0\n",
        "acc_LR = 0\n",
        "f1_KNN = 0\n",
        "acc_KNN = 0\n",
        "f1_SVM = 0\n",
        "acc_SVM = 0\n",
        "results_classification.loc[1] = ['LogisticRegression', 'task13', f1_LR, acc_LR]\n",
        "results_classification.loc[2] = ['KNeighborsClassifier', 'task13', f1_KNN, acc_KNN]\n",
        "results_classification.loc[3] = ['LinearSVC', 'task13', f1_SVM, acc_SVM]"
      ]
    },
    {
      "cell_type": "markdown",
      "metadata": {
        "id": "G-mRWSthkQHP"
      },
      "source": [
        "14. Можно заметить что в данных присутствуют значения '?', замените их самыми частыми значениями, (испольуйте SimpleImputer). Посчитайте cross_val_score по алгоритмам LogisticRegression, KNeighborsClassifier, LinearSVC по метрикам accuracy и f1_score."
      ]
    },
    {
      "cell_type": "code",
      "execution_count": null,
      "metadata": {
        "id": "mBvmHxKHkQHP"
      },
      "outputs": [],
      "source": [
        "\n",
        "\n",
        "### Ваш код ###\n",
        "\n",
        "f1_LR = 0\n",
        "acc_LR = 0\n",
        "f1_KNN = 0\n",
        "acc_KNN = 0\n",
        "f1_SVM = 0\n",
        "acc_SVM = 0\n",
        "results_classification.loc[4] = ['LogisticRegression_impute', 'task14', f1_LR, acc_LR]\n",
        "results_classification.loc[5] = ['KNeighborsClassifier_impute', 'task14', f1_KNN, acc_KNN]\n",
        "results_classification.loc[6] = ['LinearSVC_impute', 'task14', f1_SVM, acc_SVM]"
      ]
    },
    {
      "cell_type": "markdown",
      "metadata": {
        "id": "xUw-sOu5kQHP"
      },
      "source": [
        "15. Посчитайте cross_val_score по тем же алгоритмам и метрикам, если просто удалить значения '?'."
      ]
    },
    {
      "cell_type": "code",
      "execution_count": null,
      "metadata": {
        "id": "9j_v9UVgkQHZ"
      },
      "outputs": [],
      "source": [
        "\n",
        "\n",
        "### Ваш код ###\n",
        "\n",
        "f1_LR_del_missings = 0\n",
        "acc_LR_del_missings = 0\n",
        "f1_KNN_del_missings = 0\n",
        "acc_KNN_del_missings = 0\n",
        "f1_SVM_del_missings = 0\n",
        "acc_SVM_del_missings = 0\n",
        "results_classification.loc[7] = ['LogisticRegression_delete_missings', 'task15', f1_LR_del_missings, acc_LR_del_missings]\n",
        "results_classification.loc[8] = ['KNeighborsClassifier_delete_missings', 'task15', f1_KNN_del_missings, acc_KNN_del_missings]\n",
        "results_classification.loc[9] = ['LinearSVC_delete_missings', 'task15', f1_SVM_del_missings, acc_SVM_del_missings]"
      ]
    },
    {
      "cell_type": "markdown",
      "metadata": {
        "id": "hv2jW2hgkQHZ"
      },
      "source": [
        " 16. Посчитайте cross_val_score для RandomForestClassifier,GradientBoostingClassifier на данных с замененными значениями '?' на самые частые значения."
      ]
    },
    {
      "cell_type": "code",
      "execution_count": null,
      "metadata": {
        "id": "7Tan54xOkQHa"
      },
      "outputs": [],
      "source": [
        "\n",
        "\n",
        "### Ваш код ###\n",
        "\n",
        "f1_RF = 0\n",
        "acc_RF = 0\n",
        "f1_GB = 0\n",
        "acc_GB = 0\n",
        "results_classification.loc[10] = ['RandomForestClassifier', 'task16', f1_RF, acc_RF]\n",
        "results_classification.loc[11] = ['GradientBoostingClassifier', 'task16', f1_GB, acc_GB]"
      ]
    },
    {
      "cell_type": "markdown",
      "metadata": {
        "id": "C3RJ8h0akQHa"
      },
      "source": [
        "17. Подберите наилучшую модель, подбирая методы обработки колонок - масштабирование признаков, кодирование признаков и заполнение пропусков. Параметры алгоритмов оставьте по умолчанию. Выведите итоговые параметры и результат accuracy и f1_score."
      ]
    },
    {
      "cell_type": "code",
      "execution_count": null,
      "metadata": {
        "id": "vB71pTe3kQHa"
      },
      "outputs": [],
      "source": [
        "\n",
        "\n",
        "### Ваш код ###\n",
        "\n",
        "best_params = {}\n",
        "print('Параметры лучшей модели:\\n', best_params)\n",
        "f1_best = 0\n",
        "acc_best = 0\n",
        "results_classification.loc[12] = ['Best_Model', 'task17', f1_best, acc_best]"
      ]
    },
    {
      "cell_type": "code",
      "execution_count": null,
      "metadata": {
        "id": "25xRPt8jkQHa"
      },
      "outputs": [],
      "source": []
    },
    {
      "cell_type": "code",
      "execution_count": null,
      "metadata": {
        "id": "t4Q336-1kQHa"
      },
      "outputs": [],
      "source": [
        "results_classification"
      ]
    },
    {
      "cell_type": "code",
      "execution_count": null,
      "metadata": {
        "id": "ZSbixLXgkQHa"
      },
      "outputs": [],
      "source": []
    },
    {
      "cell_type": "code",
      "execution_count": null,
      "metadata": {
        "id": "W1GXq2PZkQHb"
      },
      "outputs": [],
      "source": []
    },
    {
      "cell_type": "code",
      "execution_count": null,
      "metadata": {
        "id": "cdDeME_LkQHb"
      },
      "outputs": [],
      "source": []
    }
  ],
  "metadata": {
    "kernelspec": {
      "display_name": "Python 3",
      "language": "python",
      "name": "python3"
    },
    "language_info": {
      "codemirror_mode": {
        "name": "ipython",
        "version": 3
      },
      "file_extension": ".py",
      "mimetype": "text/x-python",
      "name": "python",
      "nbconvert_exporter": "python",
      "pygments_lexer": "ipython3",
      "version": "3.7.6"
    },
    "colab": {
      "provenance": [],
      "include_colab_link": true
    }
  },
  "nbformat": 4,
  "nbformat_minor": 0
}
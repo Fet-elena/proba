{
  "cells": [
    {
      "cell_type": "markdown",
      "metadata": {
        "id": "view-in-github",
        "colab_type": "text"
      },
      "source": [
        "<a href=\"https://colab.research.google.com/github/Fet-elena/proba/blob/main/Fetisova_%D0%94%D0%97_1_NS.ipynb\" target=\"_parent\"><img src=\"https://colab.research.google.com/assets/colab-badge.svg\" alt=\"Open In Colab\"/></a>"
      ]
    },
    {
      "cell_type": "code",
      "execution_count": 31,
      "metadata": {
        "id": "RuSxPbblHJK1"
      },
      "outputs": [],
      "source": [
        "import numpy as np\n",
        "import pandas as pd\n",
        "\n"
      ]
    },
    {
      "cell_type": "code",
      "execution_count": null,
      "metadata": {
        "id": "cJlrSHw9Fz1x"
      },
      "outputs": [],
      "source": [
        "# задача 1\n",
        "\n",
        "# Найти корни квадратного уравнения методом градиентного спуска\n",
        "# x ** 2 - 5 * x + 4 = 0\n",
        "\n",
        "# надо начать движение от начальной точки в направлении антградиента с заданным шагом\n",
        "# x = x - lr * grad(x)\n",
        "# всегда ли сойдемся за приемлемое количество шагов?\n",
        "# важна ли начальная точка?\n",
        "# как найти второй корень?\n",
        "# как влияет ЛР?\n",
        "\n",
        "вершина параболы = -b/2a = 2,5"
      ]
    },
    {
      "cell_type": "code",
      "source": [
        "def grad(x):\n",
        "    return 2*(2 * x - 5)*(x**2 - 5 * x + 4)\n",
        "\n",
        "def grad_desc():\n",
        "    x_old = float('inf')\n",
        "    epsilon = 0.000001\n",
        "    lr = 0.01\n",
        "    x = - 1\n",
        "    while abs(x - x_old) > epsilon:\n",
        "        x_old = x\n",
        "        x = x - lr * grad(x)\n",
        "    return x\n",
        "\n",
        "x1 = grad_desc()\n",
        "print(x1)"
      ],
      "metadata": {
        "id": "bYjbELoEnG1Z",
        "colab": {
          "base_uri": "https://localhost:8080/"
        },
        "outputId": "a160a538-7f57-4c2c-f983-8bafb090eca3"
      },
      "execution_count": 35,
      "outputs": [
        {
          "output_type": "stream",
          "name": "stdout",
          "text": [
            "0.9999960008294747\n"
          ]
        }
      ]
    },
    {
      "cell_type": "code",
      "source": [
        "def grad(x):\n",
        "    return 2*(2 * x - 5)*(x**2 - 5 * x + 4)\n",
        "\n",
        "def grad_desc():\n",
        "    x_old = float('inf')\n",
        "    epsilon = 0.000001\n",
        "    lr = 0.01\n",
        "    x = 6\n",
        "    while abs(x - x_old) > epsilon:\n",
        "        x_old = x\n",
        "        x = x - lr * grad(x)\n",
        "    return x\n",
        "\n",
        "x2 = grad_desc()\n",
        "print(x2)"
      ],
      "metadata": {
        "colab": {
          "base_uri": "https://localhost:8080/"
        },
        "id": "5zzMCKGG9lkX",
        "outputId": "28b5711c-5a24-4626-91db-d4e97748c983"
      },
      "execution_count": 37,
      "outputs": [
        {
          "output_type": "stream",
          "name": "stdout",
          "text": [
            "4.000003999170525\n"
          ]
        }
      ]
    },
    {
      "cell_type": "code",
      "execution_count": null,
      "metadata": {
        "id": "GDJaWks-j63v"
      },
      "outputs": [],
      "source": [
        "# Задача 2\n",
        "\n",
        "# Реализовать адаптивний оптимизатор с подстраивающимся LR"
      ]
    },
    {
      "cell_type": "code",
      "execution_count": null,
      "metadata": {
        "id": "n6ZBwHvGj63w"
      },
      "outputs": [],
      "source": []
    }
  ],
  "metadata": {
    "colab": {
      "provenance": [],
      "include_colab_link": true
    },
    "kernelspec": {
      "display_name": "Python 3",
      "language": "python",
      "name": "python3"
    },
    "language_info": {
      "codemirror_mode": {
        "name": "ipython",
        "version": 3
      },
      "file_extension": ".py",
      "mimetype": "text/x-python",
      "name": "python",
      "nbconvert_exporter": "python",
      "pygments_lexer": "ipython3",
      "version": "3.6.5"
    }
  },
  "nbformat": 4,
  "nbformat_minor": 0
}